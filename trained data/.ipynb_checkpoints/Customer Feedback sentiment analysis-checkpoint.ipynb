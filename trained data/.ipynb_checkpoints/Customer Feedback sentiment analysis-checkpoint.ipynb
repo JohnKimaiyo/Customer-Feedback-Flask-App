{
 "cells": [
  {
   "cell_type": "markdown",
   "id": "5e4b3140-32a7-45cd-84ea-af1ebc6b7171",
   "metadata": {},
   "source": [
    "# Customer Feedback sentiment analysis\n",
    "\n",
    "\n",
    "To perform sentiment analysis on the provided JSON data, we can use Python libraries such as TextBlob or VADER from the nltk library. Below, I'll demonstrate how to use TextBlob to analyze the sentiment of each review.\n",
    "\n",
    "\n",
    "Explanation:\r\n",
    "Positive: The review expresses a positive sentiment.\r\n",
    "\r\n",
    "Negative: The review expresses a negative sentiment.\r\n",
    "\r\n",
    "Neutral: The review is neutral or mixed.\r\n",
    "\r\n",
    "This script uses TextBlob to determine the sentiment of each review based on the polarity of the text. You can further customize or enhance the analysis by using more advanced NLP techniques or libraries like VADER or spaCy."
   ]
  },
  {
   "cell_type": "markdown",
   "id": "0c592dfc-1194-4e41-91a4-1ad67898cc19",
   "metadata": {},
   "source": [
    "## Step 1 Install Required Libraries\n"
   ]
  },
  {
   "cell_type": "markdown",
   "id": "a55472e5-3910-4e17-b1bf-d74ef671e6c7",
   "metadata": {},
   "source": [
    "First, ensure you have the necessary libraries installed. You can install them using pip:"
   ]
  },
  {
   "cell_type": "code",
   "execution_count": 2,
   "id": "32066153-5b67-49e0-a2b0-2d6e2ebadeec",
   "metadata": {},
   "outputs": [
    {
     "name": "stdout",
     "output_type": "stream",
     "text": [
      "Requirement already satisfied: textblob in c:\\users\\jki\\anaconda3\\lib\\site-packages (0.19.0)\n",
      "Requirement already satisfied: nltk>=3.9 in c:\\users\\jki\\anaconda3\\lib\\site-packages (from textblob) (3.9.1)\n",
      "Requirement already satisfied: click in c:\\users\\jki\\anaconda3\\lib\\site-packages (from nltk>=3.9->textblob) (8.1.7)\n",
      "Requirement already satisfied: joblib in c:\\users\\jki\\anaconda3\\lib\\site-packages (from nltk>=3.9->textblob) (1.2.0)\n",
      "Requirement already satisfied: regex>=2021.8.3 in c:\\users\\jki\\anaconda3\\lib\\site-packages (from nltk>=3.9->textblob) (2023.10.3)\n",
      "Requirement already satisfied: tqdm in c:\\users\\jki\\anaconda3\\lib\\site-packages (from nltk>=3.9->textblob) (4.65.0)\n",
      "Requirement already satisfied: colorama in c:\\users\\jki\\anaconda3\\lib\\site-packages (from click->nltk>=3.9->textblob) (0.4.6)\n",
      "Note: you may need to restart the kernel to use updated packages.\n"
     ]
    }
   ],
   "source": [
    "pip install textblob"
   ]
  },
  {
   "cell_type": "markdown",
   "id": "5fb452c6-bb2f-4c5f-8b2b-6da85554ed9a",
   "metadata": {},
   "source": [
    "## Step 2: Perform Sentiment Analysis"
   ]
  },
  {
   "cell_type": "markdown",
   "id": "fffed460-3e3e-498e-a17c-bfd2ee778a6c",
   "metadata": {},
   "source": [
    "Here's a Python script that reads the JSON data, performs sentiment analysis on each review, and outputs the results:"
   ]
  },
  {
   "cell_type": "code",
   "execution_count": 7,
   "id": "c5d796e9-f6d1-49a2-b504-326e6a3204c9",
   "metadata": {},
   "outputs": [
    {
     "data": {
      "text/html": [
       "<div>\n",
       "<style scoped>\n",
       "    .dataframe tbody tr th:only-of-type {\n",
       "        vertical-align: middle;\n",
       "    }\n",
       "\n",
       "    .dataframe tbody tr th {\n",
       "        vertical-align: top;\n",
       "    }\n",
       "\n",
       "    .dataframe thead th {\n",
       "        text-align: right;\n",
       "    }\n",
       "</style>\n",
       "<table border=\"1\" class=\"dataframe\">\n",
       "  <thead>\n",
       "    <tr style=\"text-align: right;\">\n",
       "      <th></th>\n",
       "      <th>product</th>\n",
       "      <th>review</th>\n",
       "    </tr>\n",
       "  </thead>\n",
       "  <tbody>\n",
       "    <tr>\n",
       "      <th>0</th>\n",
       "      <td>18.9 Litres</td>\n",
       "      <td>his is perfect for our office! We don’t have t...</td>\n",
       "    </tr>\n",
       "    <tr>\n",
       "      <th>1</th>\n",
       "      <td>18.9 Litres</td>\n",
       "      <td>The bottle is too bulky and hard to move aroun...</td>\n",
       "    </tr>\n",
       "    <tr>\n",
       "      <th>2</th>\n",
       "      <td>18.9 Litres</td>\n",
       "      <td>It does the job, but the design could be more ...</td>\n",
       "    </tr>\n",
       "    <tr>\n",
       "      <th>3</th>\n",
       "      <td>10 Litres</td>\n",
       "      <td>Great for family use. We use it every day, and...</td>\n",
       "    </tr>\n",
       "    <tr>\n",
       "      <th>4</th>\n",
       "      <td>10 Litres</td>\n",
       "      <td>The handle broke after a week. Disappointed wi...</td>\n",
       "    </tr>\n",
       "  </tbody>\n",
       "</table>\n",
       "</div>"
      ],
      "text/plain": [
       "       product                                             review\n",
       "0  18.9 Litres  his is perfect for our office! We don’t have t...\n",
       "1  18.9 Litres  The bottle is too bulky and hard to move aroun...\n",
       "2  18.9 Litres  It does the job, but the design could be more ...\n",
       "3    10 Litres  Great for family use. We use it every day, and...\n",
       "4    10 Litres  The handle broke after a week. Disappointed wi..."
      ]
     },
     "execution_count": 7,
     "metadata": {},
     "output_type": "execute_result"
    }
   ],
   "source": [
    "from textblob import TextBlob\n",
    "import pandas as pd\n",
    "import numpy as np\n",
    "from matplotlib import pyplot as plt\n",
    "\n",
    "reviews_df = pd.read_json(r\"C:\\Users\\jki\\Desktop\\NLP Projects\\Kaptagat Springs Custyomer Feedback LLM\\data\\feedback.json\")\n",
    "\n",
    "reviews_df.head(5)"
   ]
  },
  {
   "cell_type": "code",
   "execution_count": 10,
   "id": "14359727-277f-44ca-b431-fdaa16bdc57c",
   "metadata": {},
   "outputs": [
    {
     "name": "stdout",
     "output_type": "stream",
     "text": [
      "Product: 18.9 Litres, Review: his is perfect for our office! We don’t have to refill it often, and the quality is great, Sentiment: Positive\n",
      "Product: 18.9 Litres, Review: The bottle is too bulky and hard to move around. Not practical for small spaces, Sentiment: Negative\n",
      "Product: 18.9 Litres, Review: It does the job, but the design could be more modern., Sentiment: Positive\n",
      "Product: 10 Litres, Review: Great for family use. We use it every day, and itâ€™s very durable., Sentiment: Positive\n",
      "Product: 10 Litres, Review: The handle broke after a week. Disappointed with the quality., Sentiment: Negative\n",
      "Product: 10 Litres, Review: Itâ€™s okay, but I expected it to be lighter for its size., Sentiment: Positive\n",
      "Product: 5 Litres, Review: Perfect size for camping trips. Easy to carry and lasts for days., Sentiment: Positive\n",
      "Product: 5 Litres, Review: The cap leaks sometimes, which is annoying., Sentiment: Negative\n",
      "Product: 5 Litres, Review: Itâ€™s a standard water bottle. Nothing special, but it works., Sentiment: Positive\n",
      "Product: 1.5 Litres, Review: I love this bottle for my daily workouts. Itâ€™s lightweight and easy to carry., Sentiment: Positive\n",
      "Product: 1.5 Litres, Review: The plastic smells weird, and Iâ€™m not sure if itâ€™s safe to use., Sentiment: Negative\n",
      "Product: 1.5 Litres, Review: Itâ€™s fine, but I wish it had a better grip., Sentiment: Positive\n",
      "Product: 1 Litre, Review: I use this bottle at work every day. Itâ€™s compact and fits perfectly in my bag., Sentiment: Positive\n",
      "Product: 1 Litre, Review: The bottle cracked after a few weeks. Not durable at all., Sentiment: Negative\n",
      "Product: 1 Litre, Review: Itâ€™s a decent bottle, but the design is a bit boring., Sentiment: Negative\n",
      "Product: 500 ml, Review: This is my favorite bottle for hiking. Itâ€™s lightweight and fits in my backpack easily., Sentiment: Positive\n",
      "Product: 500 ml, Review: The lid is hard to open, and it leaks sometimes., Sentiment: Negative\n",
      "Product: 500 ml, Review: Itâ€™s a good size for kids, but the colors are too plain., Sentiment: Positive\n",
      "Product: 300 ml, Review: Perfect for my childâ€™s lunchbox. Itâ€™s small and easy to carry., Sentiment: Positive\n",
      "Product: 300 ml, Review: The bottle is too small for the price. Not worth it., Sentiment: Negative\n",
      "Product: 300 ml, Review: Itâ€™s cute, but the material feels cheap., Sentiment: Positive\n",
      "Product: 18.9 Litres, Review: It’s a standard water bottle. Nothing special, but it works, Sentiment: Positive\n"
     ]
    }
   ],
   "source": [
    "# Function to perform sentiment analysis\n",
    "def analyze_sentiment(review):\n",
    "    analysis = TextBlob(review)\n",
    "    if analysis.sentiment.polarity > 0:\n",
    "        return \"Positive\"\n",
    "    elif analysis.sentiment.polarity < 0:\n",
    "        return \"Negative\"\n",
    "    else:\n",
    "        return \"Neutral\"\n",
    "\n",
    "# Analyze each review\n",
    "for index, row in reviews_df.iterrows():\n",
    "    product = row[\"product\"]\n",
    "    review = row[\"review\"]\n",
    "    sentiment = analyze_sentiment(review)\n",
    "    print(f\"Product: {product}, Review: {review}, Sentiment: {sentiment}\")\n"
   ]
  },
  {
   "cell_type": "code",
   "execution_count": 11,
   "id": "c9732063-af8e-4fbb-a22f-8795fe4b5bcb",
   "metadata": {},
   "outputs": [
    {
     "name": "stdout",
     "output_type": "stream",
     "text": [
      "Sentiment data saved successfully to sentiment_results.json\n"
     ]
    }
   ],
   "source": [
    "import json\n",
    "\n",
    "# Function to perform sentiment analysis\n",
    "def analyze_sentiment(review):\n",
    "    analysis = TextBlob(review)\n",
    "    if analysis.sentiment.polarity > 0:\n",
    "        return \"Positive\"\n",
    "    elif analysis.sentiment.polarity < 0:\n",
    "        return \"Negative\"\n",
    "    else:\n",
    "        return \"Neutral\"\n",
    "\n",
    "# Apply sentiment analysis\n",
    "reviews_df[\"sentiment\"] = reviews_df[\"review\"].apply(analyze_sentiment)\n",
    "\n",
    "# Convert DataFrame to JSON format\n",
    "sentiment_json = reviews_df.to_json(orient=\"records\", indent=4)\n",
    "\n",
    "# Save to a JSON file\n",
    "output_path = \"sentiment_results.json\"\n",
    "with open(output_path, \"w\") as json_file:\n",
    "    json_file.write(sentiment_json)\n",
    "\n",
    "print(f\"Sentiment data saved successfully to {output_path}\")\n"
   ]
  },
  {
   "cell_type": "code",
   "execution_count": null,
   "id": "38329b26-ab48-4cb0-a4b3-c81f81bc35fe",
   "metadata": {},
   "outputs": [],
   "source": []
  }
 ],
 "metadata": {
  "kernelspec": {
   "display_name": "Python 3 (ipykernel)",
   "language": "python",
   "name": "python3"
  },
  "language_info": {
   "codemirror_mode": {
    "name": "ipython",
    "version": 3
   },
   "file_extension": ".py",
   "mimetype": "text/x-python",
   "name": "python",
   "nbconvert_exporter": "python",
   "pygments_lexer": "ipython3",
   "version": "3.11.7"
  }
 },
 "nbformat": 4,
 "nbformat_minor": 5
}
